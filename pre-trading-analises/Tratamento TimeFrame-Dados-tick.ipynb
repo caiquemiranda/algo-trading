{
 "cells": [
  {
   "cell_type": "code",
   "execution_count": 1,
   "metadata": {},
   "outputs": [],
   "source": [
    "import MetaTrader5 as mt5\n",
    "import pandas as pd\n",
    "import pandas_ta as ta\n",
    "import time\n",
    "import numpy as np\n",
    "from datetime import datetime\n",
    "import matplotlib.pyplot as plt\n",
    "import pytz\n",
    "from pylab import mpl, plt"
   ]
  },
  {
   "cell_type": "code",
   "execution_count": 2,
   "metadata": {},
   "outputs": [],
   "source": [
    "if not mt5.initialize():\n",
    "    print('initialize() falhou')\n",
    "    mt5.shutdown()"
   ]
  },
  {
   "cell_type": "code",
   "execution_count": 3,
   "metadata": {},
   "outputs": [],
   "source": [
    "plt.style.use('seaborn')\n",
    "mpl.rcParams['savefig.dpi'] = 300\n",
    "mpl.rcParams['font.family'] = 'serif'"
   ]
  },
  {
   "cell_type": "code",
   "execution_count": 4,
   "metadata": {},
   "outputs": [
    {
     "data": {
      "text/html": [
       "<div>\n",
       "<style scoped>\n",
       "    .dataframe tbody tr th:only-of-type {\n",
       "        vertical-align: middle;\n",
       "    }\n",
       "\n",
       "    .dataframe tbody tr th {\n",
       "        vertical-align: top;\n",
       "    }\n",
       "\n",
       "    .dataframe thead th {\n",
       "        text-align: right;\n",
       "    }\n",
       "</style>\n",
       "<table border=\"1\" class=\"dataframe\">\n",
       "  <thead>\n",
       "    <tr style=\"text-align: right;\">\n",
       "      <th></th>\n",
       "      <th>bid</th>\n",
       "      <th>ask</th>\n",
       "      <th>last</th>\n",
       "      <th>volume</th>\n",
       "      <th>M1000</th>\n",
       "      <th>M5000</th>\n",
       "      <th>M10000</th>\n",
       "    </tr>\n",
       "    <tr>\n",
       "      <th>time</th>\n",
       "      <th></th>\n",
       "      <th></th>\n",
       "      <th></th>\n",
       "      <th></th>\n",
       "      <th></th>\n",
       "      <th></th>\n",
       "      <th></th>\n",
       "    </tr>\n",
       "  </thead>\n",
       "  <tbody>\n",
       "    <tr>\n",
       "      <th>2022-01-03 09:03:00</th>\n",
       "      <td>0.0</td>\n",
       "      <td>5728.0</td>\n",
       "      <td>0.0</td>\n",
       "      <td>0</td>\n",
       "      <td>NaN</td>\n",
       "      <td>NaN</td>\n",
       "      <td>NaN</td>\n",
       "    </tr>\n",
       "    <tr>\n",
       "      <th>2022-01-03 09:03:59</th>\n",
       "      <td>5673.0</td>\n",
       "      <td>5728.0</td>\n",
       "      <td>0.0</td>\n",
       "      <td>0</td>\n",
       "      <td>NaN</td>\n",
       "      <td>NaN</td>\n",
       "      <td>NaN</td>\n",
       "    </tr>\n",
       "    <tr>\n",
       "      <th>2022-01-03 09:04:06</th>\n",
       "      <td>0.0</td>\n",
       "      <td>5728.0</td>\n",
       "      <td>0.0</td>\n",
       "      <td>0</td>\n",
       "      <td>NaN</td>\n",
       "      <td>NaN</td>\n",
       "      <td>NaN</td>\n",
       "    </tr>\n",
       "    <tr>\n",
       "      <th>2022-01-03 09:04:29</th>\n",
       "      <td>0.0</td>\n",
       "      <td>5700.0</td>\n",
       "      <td>0.0</td>\n",
       "      <td>0</td>\n",
       "      <td>NaN</td>\n",
       "      <td>NaN</td>\n",
       "      <td>NaN</td>\n",
       "    </tr>\n",
       "    <tr>\n",
       "      <th>2022-01-03 09:04:56</th>\n",
       "      <td>0.0</td>\n",
       "      <td>5675.0</td>\n",
       "      <td>0.0</td>\n",
       "      <td>0</td>\n",
       "      <td>NaN</td>\n",
       "      <td>NaN</td>\n",
       "      <td>NaN</td>\n",
       "    </tr>\n",
       "    <tr>\n",
       "      <th>...</th>\n",
       "      <td>...</td>\n",
       "      <td>...</td>\n",
       "      <td>...</td>\n",
       "      <td>...</td>\n",
       "      <td>...</td>\n",
       "      <td>...</td>\n",
       "      <td>...</td>\n",
       "    </tr>\n",
       "    <tr>\n",
       "      <th>2022-02-07 18:29:59</th>\n",
       "      <td>5290.5</td>\n",
       "      <td>5294.0</td>\n",
       "      <td>5289.5</td>\n",
       "      <td>3</td>\n",
       "      <td>5289.586</td>\n",
       "      <td>5288.8880</td>\n",
       "      <td>5287.98805</td>\n",
       "    </tr>\n",
       "    <tr>\n",
       "      <th>2022-02-07 18:29:59</th>\n",
       "      <td>5290.5</td>\n",
       "      <td>5294.0</td>\n",
       "      <td>5289.0</td>\n",
       "      <td>6</td>\n",
       "      <td>5289.586</td>\n",
       "      <td>5288.8883</td>\n",
       "      <td>5287.98810</td>\n",
       "    </tr>\n",
       "    <tr>\n",
       "      <th>2022-02-07 18:29:59</th>\n",
       "      <td>5289.0</td>\n",
       "      <td>5294.5</td>\n",
       "      <td>5289.0</td>\n",
       "      <td>6</td>\n",
       "      <td>5289.586</td>\n",
       "      <td>5288.8886</td>\n",
       "      <td>5287.98815</td>\n",
       "    </tr>\n",
       "    <tr>\n",
       "      <th>2022-02-07 19:30:00</th>\n",
       "      <td>0.0</td>\n",
       "      <td>0.0</td>\n",
       "      <td>5289.0</td>\n",
       "      <td>6</td>\n",
       "      <td>5289.586</td>\n",
       "      <td>5288.8888</td>\n",
       "      <td>5287.98825</td>\n",
       "    </tr>\n",
       "    <tr>\n",
       "      <th>2022-02-07 21:00:07</th>\n",
       "      <td>0.0</td>\n",
       "      <td>0.0</td>\n",
       "      <td>5289.0</td>\n",
       "      <td>6</td>\n",
       "      <td>5289.586</td>\n",
       "      <td>5288.8890</td>\n",
       "      <td>5287.98835</td>\n",
       "    </tr>\n",
       "  </tbody>\n",
       "</table>\n",
       "<p>1586317 rows × 7 columns</p>\n",
       "</div>"
      ],
      "text/plain": [
       "                        bid     ask    last  volume     M1000      M5000  \\\n",
       "time                                                                       \n",
       "2022-01-03 09:03:00     0.0  5728.0     0.0       0       NaN        NaN   \n",
       "2022-01-03 09:03:59  5673.0  5728.0     0.0       0       NaN        NaN   \n",
       "2022-01-03 09:04:06     0.0  5728.0     0.0       0       NaN        NaN   \n",
       "2022-01-03 09:04:29     0.0  5700.0     0.0       0       NaN        NaN   \n",
       "2022-01-03 09:04:56     0.0  5675.0     0.0       0       NaN        NaN   \n",
       "...                     ...     ...     ...     ...       ...        ...   \n",
       "2022-02-07 18:29:59  5290.5  5294.0  5289.5       3  5289.586  5288.8880   \n",
       "2022-02-07 18:29:59  5290.5  5294.0  5289.0       6  5289.586  5288.8883   \n",
       "2022-02-07 18:29:59  5289.0  5294.5  5289.0       6  5289.586  5288.8886   \n",
       "2022-02-07 19:30:00     0.0     0.0  5289.0       6  5289.586  5288.8888   \n",
       "2022-02-07 21:00:07     0.0     0.0  5289.0       6  5289.586  5288.8890   \n",
       "\n",
       "                         M10000  \n",
       "time                             \n",
       "2022-01-03 09:03:00         NaN  \n",
       "2022-01-03 09:03:59         NaN  \n",
       "2022-01-03 09:04:06         NaN  \n",
       "2022-01-03 09:04:29         NaN  \n",
       "2022-01-03 09:04:56         NaN  \n",
       "...                         ...  \n",
       "2022-02-07 18:29:59  5287.98805  \n",
       "2022-02-07 18:29:59  5287.98810  \n",
       "2022-02-07 18:29:59  5287.98815  \n",
       "2022-02-07 19:30:00  5287.98825  \n",
       "2022-02-07 21:00:07  5287.98835  \n",
       "\n",
       "[1586317 rows x 7 columns]"
      ]
     },
     "execution_count": 4,
     "metadata": {},
     "output_type": "execute_result"
    }
   ],
   "source": [
    "ativo_analise = 'WDOH22'\n",
    "df_analise = mt5.copy_ticks_from(ativo_analise, datetime(2022, 1, 2),100000000, mt5.COPY_TICKS_ALL)\n",
    "df_analise = pd.DataFrame(df_analise)\n",
    "df_analise['time'] = pd.to_datetime(df_analise['time'], unit='s')\n",
    "df_analise.drop(['flags', 'time_msc', 'volume_real'], axis = 1, inplace=True)\n",
    "df_analise.set_index('time', inplace=True)\n",
    "df_analise['M1000'] = ta.sma(df_analise['last'], length=1000)\n",
    "df_analise['M5000'] = ta.sma(df_analise['last'], length=5000)\n",
    "df_analise['M10000'] = ta.sma(df_analise['last'], length=10000)\n",
    "df_analise"
   ]
  },
  {
   "cell_type": "code",
   "execution_count": 5,
   "metadata": {},
   "outputs": [],
   "source": [
    "#inicialmente teste com 1000ticks\n",
    "df_analise['Dist1k'] = df_analise['last']-df_analise['M1000'] \n",
    "df_analise['Dist5k'] = df_analise['last']-df_analise['M5000']\n",
    "df_analise['Dist10k'] = df_analise['last']-df_analise['M10000']"
   ]
  },
  {
   "cell_type": "code",
   "execution_count": 6,
   "metadata": {},
   "outputs": [
    {
     "data": {
      "text/plain": [
       "bid          float64\n",
       "ask          float64\n",
       "last         float64\n",
       "volume        uint64\n",
       "M1000        float64\n",
       "M5000        float64\n",
       "M10000       float64\n",
       "Dist1k       float64\n",
       "Dist5k       float64\n",
       "Dist10k      float64\n",
       "timeframe     object\n",
       "dtype: object"
      ]
     },
     "execution_count": 6,
     "metadata": {},
     "output_type": "execute_result"
    }
   ],
   "source": [
    "df_analise['timeframe'] = df_analise.index\n",
    "df_analise['timeframe'] = df_analise['timeframe'].astype(str)\n",
    "df_analise.dtypes"
   ]
  },
  {
   "cell_type": "code",
   "execution_count": 7,
   "metadata": {},
   "outputs": [],
   "source": [
    "df_analise['Ano'] = df_analise['timeframe'].apply(lambda x: int(x.split(' ')[0].split('-')[0]))\n",
    "df_analise['Mes'] = df_analise['timeframe'].apply(lambda x: int(x.split(' ')[0].split('-')[1]))\n",
    "df_analise['Dia'] = df_analise['timeframe'].apply(lambda x: int(x.split(' ')[0].split('-')[2]))\n",
    "df_analise['Hora'] = df_analise['timeframe'].apply(lambda x: int(x.split(' ')[1].split(':')[0]))\n",
    "df_analise['Min'] = df_analise['timeframe'].apply(lambda x: int(x.split(' ')[1].split(':')[1]))\n",
    "df_analise['Seg'] = df_analise['timeframe'].apply(lambda x: int(x.split(' ')[1].split(':')[2]))"
   ]
  },
  {
   "cell_type": "code",
   "execution_count": 8,
   "metadata": {},
   "outputs": [
    {
     "data": {
      "text/html": [
       "<div>\n",
       "<style scoped>\n",
       "    .dataframe tbody tr th:only-of-type {\n",
       "        vertical-align: middle;\n",
       "    }\n",
       "\n",
       "    .dataframe tbody tr th {\n",
       "        vertical-align: top;\n",
       "    }\n",
       "\n",
       "    .dataframe thead th {\n",
       "        text-align: right;\n",
       "    }\n",
       "</style>\n",
       "<table border=\"1\" class=\"dataframe\">\n",
       "  <thead>\n",
       "    <tr style=\"text-align: right;\">\n",
       "      <th></th>\n",
       "      <th>bid</th>\n",
       "      <th>ask</th>\n",
       "      <th>last</th>\n",
       "      <th>volume</th>\n",
       "      <th>M1000</th>\n",
       "      <th>M5000</th>\n",
       "      <th>M10000</th>\n",
       "      <th>Dist1k</th>\n",
       "      <th>Dist5k</th>\n",
       "      <th>Dist10k</th>\n",
       "      <th>timeframe</th>\n",
       "      <th>Ano</th>\n",
       "      <th>Mes</th>\n",
       "      <th>Dia</th>\n",
       "      <th>Hora</th>\n",
       "      <th>Min</th>\n",
       "      <th>Seg</th>\n",
       "    </tr>\n",
       "    <tr>\n",
       "      <th>time</th>\n",
       "      <th></th>\n",
       "      <th></th>\n",
       "      <th></th>\n",
       "      <th></th>\n",
       "      <th></th>\n",
       "      <th></th>\n",
       "      <th></th>\n",
       "      <th></th>\n",
       "      <th></th>\n",
       "      <th></th>\n",
       "      <th></th>\n",
       "      <th></th>\n",
       "      <th></th>\n",
       "      <th></th>\n",
       "      <th></th>\n",
       "      <th></th>\n",
       "      <th></th>\n",
       "    </tr>\n",
       "  </thead>\n",
       "  <tbody>\n",
       "    <tr>\n",
       "      <th>2022-02-07 18:29:59</th>\n",
       "      <td>5290.5</td>\n",
       "      <td>5294.0</td>\n",
       "      <td>5289.5</td>\n",
       "      <td>3</td>\n",
       "      <td>5289.586</td>\n",
       "      <td>5288.8880</td>\n",
       "      <td>5287.98805</td>\n",
       "      <td>-0.086</td>\n",
       "      <td>0.6120</td>\n",
       "      <td>1.51195</td>\n",
       "      <td>2022-02-07 18:29:59</td>\n",
       "      <td>2022</td>\n",
       "      <td>2</td>\n",
       "      <td>7</td>\n",
       "      <td>18</td>\n",
       "      <td>29</td>\n",
       "      <td>59</td>\n",
       "    </tr>\n",
       "    <tr>\n",
       "      <th>2022-02-07 18:29:59</th>\n",
       "      <td>5290.5</td>\n",
       "      <td>5294.0</td>\n",
       "      <td>5289.0</td>\n",
       "      <td>6</td>\n",
       "      <td>5289.586</td>\n",
       "      <td>5288.8883</td>\n",
       "      <td>5287.98810</td>\n",
       "      <td>-0.586</td>\n",
       "      <td>0.1117</td>\n",
       "      <td>1.01190</td>\n",
       "      <td>2022-02-07 18:29:59</td>\n",
       "      <td>2022</td>\n",
       "      <td>2</td>\n",
       "      <td>7</td>\n",
       "      <td>18</td>\n",
       "      <td>29</td>\n",
       "      <td>59</td>\n",
       "    </tr>\n",
       "    <tr>\n",
       "      <th>2022-02-07 18:29:59</th>\n",
       "      <td>5289.0</td>\n",
       "      <td>5294.5</td>\n",
       "      <td>5289.0</td>\n",
       "      <td>6</td>\n",
       "      <td>5289.586</td>\n",
       "      <td>5288.8886</td>\n",
       "      <td>5287.98815</td>\n",
       "      <td>-0.586</td>\n",
       "      <td>0.1114</td>\n",
       "      <td>1.01185</td>\n",
       "      <td>2022-02-07 18:29:59</td>\n",
       "      <td>2022</td>\n",
       "      <td>2</td>\n",
       "      <td>7</td>\n",
       "      <td>18</td>\n",
       "      <td>29</td>\n",
       "      <td>59</td>\n",
       "    </tr>\n",
       "    <tr>\n",
       "      <th>2022-02-07 19:30:00</th>\n",
       "      <td>0.0</td>\n",
       "      <td>0.0</td>\n",
       "      <td>5289.0</td>\n",
       "      <td>6</td>\n",
       "      <td>5289.586</td>\n",
       "      <td>5288.8888</td>\n",
       "      <td>5287.98825</td>\n",
       "      <td>-0.586</td>\n",
       "      <td>0.1112</td>\n",
       "      <td>1.01175</td>\n",
       "      <td>2022-02-07 19:30:00</td>\n",
       "      <td>2022</td>\n",
       "      <td>2</td>\n",
       "      <td>7</td>\n",
       "      <td>19</td>\n",
       "      <td>30</td>\n",
       "      <td>0</td>\n",
       "    </tr>\n",
       "    <tr>\n",
       "      <th>2022-02-07 21:00:07</th>\n",
       "      <td>0.0</td>\n",
       "      <td>0.0</td>\n",
       "      <td>5289.0</td>\n",
       "      <td>6</td>\n",
       "      <td>5289.586</td>\n",
       "      <td>5288.8890</td>\n",
       "      <td>5287.98835</td>\n",
       "      <td>-0.586</td>\n",
       "      <td>0.1110</td>\n",
       "      <td>1.01165</td>\n",
       "      <td>2022-02-07 21:00:07</td>\n",
       "      <td>2022</td>\n",
       "      <td>2</td>\n",
       "      <td>7</td>\n",
       "      <td>21</td>\n",
       "      <td>0</td>\n",
       "      <td>7</td>\n",
       "    </tr>\n",
       "  </tbody>\n",
       "</table>\n",
       "</div>"
      ],
      "text/plain": [
       "                        bid     ask    last  volume     M1000      M5000  \\\n",
       "time                                                                       \n",
       "2022-02-07 18:29:59  5290.5  5294.0  5289.5       3  5289.586  5288.8880   \n",
       "2022-02-07 18:29:59  5290.5  5294.0  5289.0       6  5289.586  5288.8883   \n",
       "2022-02-07 18:29:59  5289.0  5294.5  5289.0       6  5289.586  5288.8886   \n",
       "2022-02-07 19:30:00     0.0     0.0  5289.0       6  5289.586  5288.8888   \n",
       "2022-02-07 21:00:07     0.0     0.0  5289.0       6  5289.586  5288.8890   \n",
       "\n",
       "                         M10000  Dist1k  Dist5k  Dist10k            timeframe  \\\n",
       "time                                                                            \n",
       "2022-02-07 18:29:59  5287.98805  -0.086  0.6120  1.51195  2022-02-07 18:29:59   \n",
       "2022-02-07 18:29:59  5287.98810  -0.586  0.1117  1.01190  2022-02-07 18:29:59   \n",
       "2022-02-07 18:29:59  5287.98815  -0.586  0.1114  1.01185  2022-02-07 18:29:59   \n",
       "2022-02-07 19:30:00  5287.98825  -0.586  0.1112  1.01175  2022-02-07 19:30:00   \n",
       "2022-02-07 21:00:07  5287.98835  -0.586  0.1110  1.01165  2022-02-07 21:00:07   \n",
       "\n",
       "                      Ano  Mes  Dia  Hora  Min  Seg  \n",
       "time                                                 \n",
       "2022-02-07 18:29:59  2022    2    7    18   29   59  \n",
       "2022-02-07 18:29:59  2022    2    7    18   29   59  \n",
       "2022-02-07 18:29:59  2022    2    7    18   29   59  \n",
       "2022-02-07 19:30:00  2022    2    7    19   30    0  \n",
       "2022-02-07 21:00:07  2022    2    7    21    0    7  "
      ]
     },
     "execution_count": 8,
     "metadata": {},
     "output_type": "execute_result"
    }
   ],
   "source": [
    "df_analise.tail()"
   ]
  },
  {
   "cell_type": "code",
   "execution_count": 9,
   "metadata": {},
   "outputs": [
    {
     "data": {
      "text/plain": [
       "3     255863\n",
       "1     249430\n",
       "7     246687\n",
       "4     236511\n",
       "31    231550\n",
       "2     231135\n",
       "28     29378\n",
       "27     18329\n",
       "21     10131\n",
       "26      9435\n",
       "19      8821\n",
       "20      8418\n",
       "24      8132\n",
       "18      8100\n",
       "25      6023\n",
       "5       4578\n",
       "13      4065\n",
       "6       4064\n",
       "14      3760\n",
       "12      3648\n",
       "10      3119\n",
       "11      2750\n",
       "17      2390\n",
       "Name: Dia, dtype: int64"
      ]
     },
     "execution_count": 9,
     "metadata": {},
     "output_type": "execute_result"
    }
   ],
   "source": [
    "df_analise.Dia.value_counts()"
   ]
  },
  {
   "cell_type": "code",
   "execution_count": 10,
   "metadata": {},
   "outputs": [],
   "source": [
    "df = df_analise[df_analise['volume'] > 0]"
   ]
  },
  {
   "cell_type": "code",
   "execution_count": 11,
   "metadata": {},
   "outputs": [],
   "source": [
    "# filtro do das 9 horas\n",
    "df = df[df['Hora'] == 9]\n",
    "df = df[df['Min'] > 15]\n",
    "df.dropna(inplace=True)\n",
    "#df = df[df['Dist1k'] < 40]"
   ]
  },
  {
   "cell_type": "code",
   "execution_count": 12,
   "metadata": {},
   "outputs": [
    {
     "data": {
      "text/plain": [
       "9    169454\n",
       "Name: Hora, dtype: int64"
      ]
     },
     "execution_count": 12,
     "metadata": {},
     "output_type": "execute_result"
    }
   ],
   "source": [
    "df.Hora.value_counts()"
   ]
  },
  {
   "cell_type": "code",
   "execution_count": 13,
   "metadata": {},
   "outputs": [],
   "source": [
    "def percentil(data, up=90, down=10):\n",
    "    x = data\n",
    "    array_x = np.array(x)\n",
    "    percentil_up = np.percentile(array_x, up)\n",
    "    percentil_down = np.percentile(array_x, down)\n",
    "    \n",
    "    return percentil_up, percentil_down"
   ]
  },
  {
   "cell_type": "code",
   "execution_count": 14,
   "metadata": {},
   "outputs": [
    {
     "data": {
      "image/png": "[encoded data removed]",
      "text/plain": [
       "<Figure size 1440x288 with 1 Axes>"
      ]
     },
     "metadata": {},
     "output_type": "display_data"
    },
    {
     "data": {
      "image/png": "[encoded data removed]",
      "text/plain": [
       "<Figure size 1440x288 with 1 Axes>"
      ]
     },
     "metadata": {},
     "output_type": "display_data"
    },
    {
     "data": {
      "image/png": "[encoded data removed]",
      "text/plain": [
       "<Figure size 1440x288 with 1 Axes>"
      ]
     },
     "metadata": {},
     "output_type": "display_data"
    }
   ],
   "source": [
    "plt.rcParams['figure.figsize'] = (20,4)\n",
    "\n",
    "per_dist1k = percentil(df['Dist1k'], up=99, down=1)\n",
    "ax = df['Dist1k'].plot()\n",
    "ax.fill_between(df.index, per_dist1k[0], per_dist1k[1],facecolor= 'orange', alpha= 0.1)\n",
    "plt.axhline(per_dist1k[0], color=\"red\", lw=1.0)\n",
    "plt.axhline(0, color=\"black\", lw=1.0)\n",
    "plt.axhline(per_dist1k[1], color=\"green\", lw=1.0)\n",
    "plt.xlabel('Time')\n",
    "plt.ylabel('Dist1k')\n",
    "plt.show()\n",
    "\n",
    "per_dist5k = percentil(df['Dist5k'], up=99, down=1)\n",
    "ax = df['Dist5k'].plot()\n",
    "ax.fill_between(df.index, per_dist5k[0], per_dist5k[1],facecolor= 'orange', alpha= 0.1)\n",
    "plt.axhline(per_dist5k[0], color=\"red\", lw=1.0)\n",
    "plt.axhline(0, color=\"black\", lw=1.0)\n",
    "plt.axhline(per_dist5k[1], color=\"green\", lw=1.0)\n",
    "plt.xlabel('Time')\n",
    "plt.ylabel('Dist5k')\n",
    "plt.show()\n",
    "\n",
    "per_dist10k = percentil(df['Dist10k'], up=99, down=1)\n",
    "ax = df['Dist10k'].plot()\n",
    "ax.fill_between(df.index, per_dist10k[0], per_dist10k[1],facecolor= 'orange', alpha= 0.1)\n",
    "plt.axhline(per_dist10k[0], color=\"red\", lw=1.0)\n",
    "plt.axhline(0, color=\"black\", lw=1.0)\n",
    "plt.axhline(per_dist10k[1], color=\"green\", lw=1.0)\n",
    "plt.xlabel('Time')\n",
    "plt.ylabel('Dist10k')\n",
    "plt.show()"
   ]
  },
  {
   "cell_type": "code",
   "execution_count": 15,
   "metadata": {},
   "outputs": [
    {
     "data": {
      "text/plain": [
       "count    169454.000000\n",
       "mean         10.870626\n",
       "std          88.691732\n",
       "min         -24.265500\n",
       "25%          -1.176500\n",
       "50%           0.027500\n",
       "75%           1.313000\n",
       "max        1731.244000\n",
       "Name: Dist1k, dtype: float64"
      ]
     },
     "execution_count": 15,
     "metadata": {},
     "output_type": "execute_result"
    }
   ],
   "source": [
    "df['Dist1k'].describe()"
   ]
  },
  {
   "cell_type": "code",
   "execution_count": 16,
   "metadata": {},
   "outputs": [
    {
     "data": {
      "text/plain": [
       "count    169454.000000\n",
       "mean          3.725269\n",
       "std          28.215531\n",
       "min         -44.109000\n",
       "25%          -2.385400\n",
       "50%          -0.151000\n",
       "75%           2.824175\n",
       "max         471.341800\n",
       "Name: Dist5k, dtype: float64"
      ]
     },
     "execution_count": 16,
     "metadata": {},
     "output_type": "execute_result"
    }
   ],
   "source": [
    "df['Dist5k'].describe()"
   ]
  },
  {
   "cell_type": "code",
   "execution_count": 17,
   "metadata": {},
   "outputs": [
    {
     "data": {
      "text/plain": [
       "count    169454.000000\n",
       "mean          2.689790\n",
       "std          21.459395\n",
       "min         -54.419800\n",
       "25%          -3.040737\n",
       "50%           0.062250\n",
       "75%           3.609300\n",
       "max         240.635850\n",
       "Name: Dist10k, dtype: float64"
      ]
     },
     "execution_count": 17,
     "metadata": {},
     "output_type": "execute_result"
    }
   ],
   "source": [
    "df['Dist10k'].describe()"
   ]
  },
  {
   "cell_type": "code",
   "execution_count": null,
   "metadata": {},
   "outputs": [],
   "source": []
  }
 ],
 "metadata": {
  "interpreter": {
   "hash": "b3ba2566441a7c06988d0923437866b63cedc61552a5af99d1f4fb67d367b25f"
  },
  "kernelspec": {
   "display_name": "Python 3.8.8 64-bit ('base': conda)",
   "language": "python",
   "name": "python3"
  },
  "language_info": {
   "codemirror_mode": {
    "name": "ipython",
    "version": 3
   },
   "file_extension": ".py",
   "mimetype": "text/x-python",
   "name": "python",
   "nbconvert_exporter": "python",
   "pygments_lexer": "ipython3",
   "version": "3.8.8"
  },
  "orig_nbformat": 4
 },
 "nbformat": 4,
 "nbformat_minor": 2
}
