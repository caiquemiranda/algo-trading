{
 "cells": [
  {
   "cell_type": "code",
   "execution_count": 25,
   "metadata": {},
   "outputs": [],
   "source": [
    "# import libs\n",
    "from datetime import datetime\n",
    "import pandas as pd\n",
    "import numpy as np\n",
    "import matplotlib.pyplot as plt\n",
    "import yfinance as yf\n",
    "from bs4 import BeautifulSoup\n",
    "import seaborn as sns"
   ]
  },
  {
   "cell_type": "code",
   "execution_count": 56,
   "metadata": {},
   "outputs": [],
   "source": [
    "df = pd.read_csv('../IBRA_D.csv', sep=';')"
   ]
  },
  {
   "cell_type": "code",
   "execution_count": 63,
   "metadata": {},
   "outputs": [],
   "source": [
    "df.rename(columns={\"C�digo\": \"CODIGO\", \"A��o\": \"AÇAO\"}, inplace=True)\n",
    "df = df.iloc[:-1, :]"
   ]
  },
  {
   "cell_type": "code",
   "execution_count": 64,
   "metadata": {},
   "outputs": [
    {
     "data": {
      "text/html": [
       "<div>\n",
       "<style scoped>\n",
       "    .dataframe tbody tr th:only-of-type {\n",
       "        vertical-align: middle;\n",
       "    }\n",
       "\n",
       "    .dataframe tbody tr th {\n",
       "        vertical-align: top;\n",
       "    }\n",
       "\n",
       "    .dataframe thead th {\n",
       "        text-align: right;\n",
       "    }\n",
       "</style>\n",
       "<table border=\"1\" class=\"dataframe\">\n",
       "  <thead>\n",
       "    <tr style=\"text-align: right;\">\n",
       "      <th></th>\n",
       "      <th>CODIGO</th>\n",
       "      <th>AÇAO</th>\n",
       "      <th>Tipo</th>\n",
       "      <th>Qtde. Te�rica</th>\n",
       "      <th>Part. (%)</th>\n",
       "    </tr>\n",
       "  </thead>\n",
       "  <tbody>\n",
       "    <tr>\n",
       "      <th>205</th>\n",
       "      <td>VULC3</td>\n",
       "      <td>VULCABRAS</td>\n",
       "      <td>ON      NM</td>\n",
       "      <td>73.766.391</td>\n",
       "      <td>0,028</td>\n",
       "    </tr>\n",
       "    <tr>\n",
       "      <th>206</th>\n",
       "      <td>WEGE3</td>\n",
       "      <td>WEG</td>\n",
       "      <td>ON      NM</td>\n",
       "      <td>1.484.859.030</td>\n",
       "      <td>1,882</td>\n",
       "    </tr>\n",
       "    <tr>\n",
       "      <th>207</th>\n",
       "      <td>WEST3</td>\n",
       "      <td>WESTWING</td>\n",
       "      <td>ON      NM</td>\n",
       "      <td>108.526.910</td>\n",
       "      <td>0,016</td>\n",
       "    </tr>\n",
       "    <tr>\n",
       "      <th>208</th>\n",
       "      <td>WIZS3</td>\n",
       "      <td>WIZ S.A.</td>\n",
       "      <td>ON      NM</td>\n",
       "      <td>77.540.728</td>\n",
       "      <td>0,025</td>\n",
       "    </tr>\n",
       "    <tr>\n",
       "      <th>209</th>\n",
       "      <td>YDUQ3</td>\n",
       "      <td>YDUQS PART</td>\n",
       "      <td>ON      NM</td>\n",
       "      <td>300.833.122</td>\n",
       "      <td>0,26</td>\n",
       "    </tr>\n",
       "  </tbody>\n",
       "</table>\n",
       "</div>"
      ],
      "text/plain": [
       "    CODIGO        AÇAO        Tipo  Qtde. Te�rica Part. (%)\n",
       "205  VULC3   VULCABRAS  ON      NM     73.766.391     0,028\n",
       "206  WEGE3         WEG  ON      NM  1.484.859.030     1,882\n",
       "207  WEST3    WESTWING  ON      NM    108.526.910     0,016\n",
       "208  WIZS3    WIZ S.A.  ON      NM     77.540.728     0,025\n",
       "209  YDUQ3  YDUQS PART  ON      NM    300.833.122      0,26"
      ]
     },
     "execution_count": 64,
     "metadata": {},
     "output_type": "execute_result"
    }
   ],
   "source": [
    "df.tail()"
   ]
  },
  {
   "cell_type": "code",
   "execution_count": 67,
   "metadata": {},
   "outputs": [],
   "source": [
    "Symbols = df['CODIGO'] + '.SA'"
   ]
  },
  {
   "cell_type": "code",
   "execution_count": 68,
   "metadata": {},
   "outputs": [
    {
     "data": {
      "text/plain": [
       "0      RRRP3.SA\n",
       "1      TTEN3.SA\n",
       "2      ABCB4.SA\n",
       "3      AERI3.SA\n",
       "4      AESB3.SA\n",
       "         ...   \n",
       "205    VULC3.SA\n",
       "206    WEGE3.SA\n",
       "207    WEST3.SA\n",
       "208    WIZS3.SA\n",
       "209    YDUQ3.SA\n",
       "Name: CODIGO, Length: 210, dtype: object"
      ]
     },
     "execution_count": 68,
     "metadata": {},
     "output_type": "execute_result"
    }
   ],
   "source": [
    "Symbols"
   ]
  },
  {
   "cell_type": "code",
   "execution_count": null,
   "metadata": {},
   "outputs": [],
   "source": []
  }
 ],
 "metadata": {
  "interpreter": {
   "hash": "b3ba2566441a7c06988d0923437866b63cedc61552a5af99d1f4fb67d367b25f"
  },
  "kernelspec": {
   "display_name": "Python 3.8.8 64-bit ('base': conda)",
   "language": "python",
   "name": "python3"
  },
  "language_info": {
   "codemirror_mode": {
    "name": "ipython",
    "version": 3
   },
   "file_extension": ".py",
   "mimetype": "text/x-python",
   "name": "python",
   "nbconvert_exporter": "python",
   "pygments_lexer": "ipython3",
   "version": "3.8.8"
  },
  "orig_nbformat": 4
 },
 "nbformat": 4,
 "nbformat_minor": 2
}
